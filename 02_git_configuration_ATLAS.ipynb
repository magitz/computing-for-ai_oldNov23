{
 "cells": [
  {
   "cell_type": "markdown",
   "id": "2ab10303-851b-47bf-a2c1-23e98a8a99ad",
   "metadata": {},
   "source": [
    "![Practicum AI Logo image](https://github.com/PracticumAI/practicumai.github.io/blob/main/images/logo/PracticumAI_logo_250x50.png?raw=true) <img src='https://github.com/PracticumAI/practicumai.github.io/blob/main/images/icons/practicumai_python.png?raw=true' align='right' width=50>\n",
    "\n",
    "# *Practicum AI: Computing for AI*\n",
    "## Module 3: Git and GitHub\n",
    "## GitHub Account Configuration on ATLAS\n",
    "\n",
    "\n",
    "\n",
    "***"
   ]
  },
  {
   "cell_type": "markdown",
   "id": "cfae84fd-91d8-4c0a-9e39-ca9eeca2bcc5",
   "metadata": {},
   "source": [
    "This notebook will help you get your GitHub account configured if you are using ATLAS, the USDA's supercomputer at Mississippi State. **If you are not using ATLAS, please check out the other notebooks for this step.**\n",
    "\n",
    "The code blocks below may seem complicated, though if you read through them, you can probably make some good guesses about what they are doing. You will learn much of the code later, but for now, know that first we check if you have an ed25519 key, and if you do, offer to use that. If not, we create the key, and provide the contents for the next step.\n",
    "\n",
    "There are five steps for this notebook. Except for step 2, which is done in your GitHub account, there is a code block to execute--**All you should need to do is run each cell *without modification***. Some code blocks are long, and you probbly won't undestand everything, though you can probably follow what is happening if your read the comments and code. If you would rather not run code that you don't understand, for each step there are also alternative step-by-step instructions for running a few commands on the Linux, or Bash, Command Line. Again, you may not understand those, though we provide links to GitHub's explanation and our own explanations.\n"
   ]
  },
  {
   "cell_type": "markdown",
   "id": "9c0cd615-1c42-425e-aae0-e22ceb89d3cc",
   "metadata": {},
   "source": [
    "## Step 1: Create your ssh key pair\n",
    "\n",
    "### What is an SSH Key??\n",
    "\n",
    "<div style=\"padding: 10px;margin-bottom: 20px;border: thin solid #30335D;border-left-width: 10px;background-color: #fff\">\n",
    "<p>SSH keys are a more secure method of authenticating a user than usernames and passwords. For this reason, GitHub has stopped using username/password authentication for pushing content to repos.</p>\n",
    "    \n",
    "<p>SSH is the secure shell application, and how many computers talk to each other. SSH keys consist of two files, one, the private key, should be protected and remain in computers you trust (for example, HiPerGator, or your own computer), the second, the public key, can be placed on any computer you want to login to.</p>\n",
    "\n",
    "<p>When you try to login to a computer, like GitHub, messages encrypted and decrypted with the public and private keys are passed between the servers. Only someone in possession of the private key file will be able to login to a server that has had the corresponding public key added to it.</p>\n",
    "\n",
    "<p>So, the process of setting up SSH key authentication involves three steps:</p>\n",
    "<ol>\n",
    "    <li>Create the SSH key pair</li>\n",
    "    <li>Add the public key to the server you want to log into</li>\n",
    "    <li>Test the connection</li>\n",
    "    </ol>\n",
    "</div>\n"
   ]
  },
  {
   "cell_type": "markdown",
   "id": "ea16a806-52b2-4c61-bafb-6d3a75917452",
   "metadata": {
    "tags": []
   },
   "source": [
    "<img src='images/hacker_terminal.gif' alt='gif of green terminal screen with 1s and 0s scrolling by' width=200 align='right' hspace=15>For this notebooks, we will actually mostly be running commands on the command line. We will use `git` and some other tools from the command line.**\n",
    ">\n",
    ">This is a simplified version of the [details outlined on GitHub.com](https://docs.github.com/en/authentication/connecting-to-github-with-ssh/generating-a-new-ssh-key-and-adding-it-to-the-ssh-agent?platform=linux).\n",
    ">\n",
    ">* First make sure you don't have an existing key file at: `~/.ssh/id_ed25519.pub`:\n",
    "> \n",
    ">    `cat ~/.ssh/id_ed25519.pub`\n",
    "> \n",
    ">   * That should return an error say that no such file or directory exitsts.\n",
    ">    * If it does return \"ssh-ed25519\" followed by a string of letters and numbers, then you can either use that key file, or move/delete the key and its private pair and make a new one.\n",
    ">\n",
    ">* Make the ed25519 key pair. If you enter a passphrase at the prompts, you will need to type that each time you use the key:\n",
    ">\n",
    ">   `ssh-keygen -t ed25519 -C 'My GitHub key' -f ~/.ssh/id_ed25519`\n",
    ">\n",
    ">* Display the contents of the public key so you can **copy it**:\n",
    ">\n",
    ">   `cat ~/.ssh/id_ed25519.pub`\n",
    ">\n",
    ">    **Copy the line of output from above.** It should look something like \"ssh-ed25519 AAAAC3daakfmDI1NTE5AAAAIPoySr7ZDbMvqAgpGRFfmC0DlEVMs//pEF2PYgHqn6Cs My GitHub key\""
   ]
  },
  {
   "cell_type": "markdown",
   "id": "19844553-fc41-4d0a-812c-2a2b56aa31bc",
   "metadata": {},
   "source": [
    "## Step 2: Add your public key to your GitHub account\n",
    "\n",
    "1. Go to your GitHub Settings at: [https://github.com/settings/keys](https://github.com/settings/keys).\n",
    "\n",
    "1. As outlined [on GitHub.com](https://docs.github.com/en/authentication/connecting-to-github-with-ssh/adding-a-new-ssh-key-to-your-github-account), click the New SSH Key button. [![Screenshot of the New SSH Key button](images/new_key.png)](https://github.com/settings/ssh/new)\n",
    "\n",
    "1. Give the key a name, \"HiPerGator\" for example, and **paste the public key text** you copied above into the Key box.\n",
    "\n"
   ]
  },
  {
   "cell_type": "markdown",
   "id": "9c9e3929-cc83-43c7-8733-0e74d94ed9ac",
   "metadata": {},
   "source": [
    "## Step 3: Configure `git` on ATLAS for your user\n",
    "\n",
    ">\n",
    ">Type the following two commands using your name (inside quotes) and email address (no quotes):\n",
    ">\n",
    ">  `git config --global user.name 'Your Name'`\n",
    ">  \n",
    ">  `git config --global user.email your_email@example.com`\n",
    "> \n",
    ">The lines configure git for your user account.\n"
   ]
  },
  {
   "cell_type": "markdown",
   "id": "4fce5a7f-c94a-4072-b67f-ba7ffea14102",
   "metadata": {
    "tags": []
   },
   "source": [
    "## Step 4: Test your SSH key\n",
    "\n",
    "**IMPORTANT: Do not skip this step** Test the key and add github.com to your known hosts. Back in the Jupyter terminal, type:\n",
    "\n",
    "The cell below adds the known information about the GitHub server to your known_hosts file (located at `~/.ssh/known_hosts`) and tests the connection to GitHub. \n",
    "\n",
    "You may see a warning about permenantly adding the ECDSA host key for an IP address. This is Ok.\n",
    "You should then see a greating from GitHub with your GitHub username. It will say \"You've successfully authenticated, but GitHub does not provide shell access.\" That is the expected output and means everything is setup correctly!"
   ]
  },
  {
   "cell_type": "markdown",
   "id": "2ac625b6-af75-4c20-8dfc-9df281d2b90b",
   "metadata": {
    "tags": []
   },
   "source": [
    ">* As [outlined on GitHub.com](https://docs.github.com/en/authentication/connecting-to-github-with-ssh/testing-your-ssh-connection): In the terminal type:\n",
    ">\n",
    ">   `ssh -T git@github.com`\n",
    ">\n",
    ">   (Do NOT replace the username, type it as git@github.com). \n",
    ">  \n",
    ">   * Since this is likely the first time you have connected to github.com from the compute your are on, you will be asked if you want to trust the unknown host. Type: **`yes`**  \n",
    ">   * You should then see a reply like this:\n",
    ">\n",
    ">     ```\n",
    ">     [matt.gitzendanner@atlas ~]$ ssh -T git@github.com\n",
    ">     Hi magitz! You've successfully authenticated, but GitHub does not provide shell access.\n",
    ">     ```\n",
    ">\n",
    ">   * This is the expected reply, your GitHub.com user name will be shown along with a note that you have successfully authenticated (using the setup ssh keys), but that GitHub does not provide shell access."
   ]
  },
  {
   "cell_type": "markdown",
   "id": "f161a0d7-ed0e-4655-8a70-3675bdc5181c",
   "metadata": {},
   "source": [
    "## That's it!!\n",
    "\n",
    "Your account shoudl be setup and ready to go!"
   ]
  }
 ],
 "metadata": {
  "kernelspec": {
   "display_name": "Python 3 (ipykernel)",
   "language": "python",
   "name": "python3"
  },
  "language_info": {
   "codemirror_mode": {
    "name": "ipython",
    "version": 3
   },
   "file_extension": ".py",
   "mimetype": "text/x-python",
   "name": "python",
   "nbconvert_exporter": "python",
   "pygments_lexer": "ipython3",
   "version": "3.10.8"
  }
 },
 "nbformat": 4,
 "nbformat_minor": 5
}
